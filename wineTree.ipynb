{
  "nbformat": 4,
  "nbformat_minor": 0,
  "metadata": {
    "colab": {
      "name": "wineTree.ipynb",
      "provenance": [],
      "authorship_tag": "ABX9TyNw24VY6cnj+94iy3WpF3ZJ",
      "include_colab_link": true
    },
    "kernelspec": {
      "name": "python3",
      "display_name": "Python 3"
    }
  },
  "cells": [
    {
      "cell_type": "markdown",
      "metadata": {
        "id": "view-in-github",
        "colab_type": "text"
      },
      "source": [
        "<a href=\"https://colab.research.google.com/github/tutalae/wineML/blob/main/wineTree.ipynb\" target=\"_parent\"><img src=\"https://colab.research.google.com/assets/colab-badge.svg\" alt=\"Open In Colab\"/></a>"
      ]
    },
    {
      "cell_type": "code",
      "metadata": {
        "id": "d4LI-LasPZBl"
      },
      "source": [
        "# Import library \r\n",
        "import numpy as np\r\n",
        "import pandas as pd\r\n",
        "from sklearn.model_selection import train_test_split\r\n",
        "from sklearn.tree import DecisionTreeClassifier\r\n",
        "from sklearn.metrics import classification_report,confusion_matrix\r\n",
        "from sklearn import tree"
      ],
      "execution_count": 1,
      "outputs": []
    },
    {
      "cell_type": "code",
      "metadata": {
        "colab": {
          "base_uri": "https://localhost:8080/",
          "height": 258
        },
        "id": "fxrwwK-sPcco",
        "outputId": "c414d484-e4db-47b2-ea97-259b955f595b"
      },
      "source": [
        "# Import Data\r\n",
        "\r\n",
        "dataset_url = 'https://archive.ics.uci.edu/ml/machine-learning-databases/wine/wine.data'\r\n",
        "feature = [\"Cultivator\", \"Alchol\", \"Malic_Acid\", \"Ash\", \"Alcalinity_of_Ash\", \"Magnesium\", \"Total_phenols\", \"Falvanoids\", \"Nonflavanoid_phenols\", \"Proanthocyanins\", \"Color_intensity\", \"Hue\", \"OD280\", \"Proline\"]\r\n",
        "wine_data = pd.read_csv(dataset_url, names = feature)\r\n",
        "print (\"Dataset Lenght:: \", len(wine_data))\r\n",
        "print (\"Dataset Shape:: \", wine_data.shape)\r\n",
        "wine_data.tail()"
      ],
      "execution_count": 2,
      "outputs": [
        {
          "output_type": "stream",
          "text": [
            "Dataset Lenght::  178\n",
            "Dataset Shape::  (178, 14)\n"
          ],
          "name": "stdout"
        },
        {
          "output_type": "execute_result",
          "data": {
            "text/html": [
              "<div>\n",
              "<style scoped>\n",
              "    .dataframe tbody tr th:only-of-type {\n",
              "        vertical-align: middle;\n",
              "    }\n",
              "\n",
              "    .dataframe tbody tr th {\n",
              "        vertical-align: top;\n",
              "    }\n",
              "\n",
              "    .dataframe thead th {\n",
              "        text-align: right;\n",
              "    }\n",
              "</style>\n",
              "<table border=\"1\" class=\"dataframe\">\n",
              "  <thead>\n",
              "    <tr style=\"text-align: right;\">\n",
              "      <th></th>\n",
              "      <th>Cultivator</th>\n",
              "      <th>Alchol</th>\n",
              "      <th>Malic_Acid</th>\n",
              "      <th>Ash</th>\n",
              "      <th>Alcalinity_of_Ash</th>\n",
              "      <th>Magnesium</th>\n",
              "      <th>Total_phenols</th>\n",
              "      <th>Falvanoids</th>\n",
              "      <th>Nonflavanoid_phenols</th>\n",
              "      <th>Proanthocyanins</th>\n",
              "      <th>Color_intensity</th>\n",
              "      <th>Hue</th>\n",
              "      <th>OD280</th>\n",
              "      <th>Proline</th>\n",
              "    </tr>\n",
              "  </thead>\n",
              "  <tbody>\n",
              "    <tr>\n",
              "      <th>173</th>\n",
              "      <td>3</td>\n",
              "      <td>13.71</td>\n",
              "      <td>5.65</td>\n",
              "      <td>2.45</td>\n",
              "      <td>20.5</td>\n",
              "      <td>95</td>\n",
              "      <td>1.68</td>\n",
              "      <td>0.61</td>\n",
              "      <td>0.52</td>\n",
              "      <td>1.06</td>\n",
              "      <td>7.7</td>\n",
              "      <td>0.64</td>\n",
              "      <td>1.74</td>\n",
              "      <td>740</td>\n",
              "    </tr>\n",
              "    <tr>\n",
              "      <th>174</th>\n",
              "      <td>3</td>\n",
              "      <td>13.40</td>\n",
              "      <td>3.91</td>\n",
              "      <td>2.48</td>\n",
              "      <td>23.0</td>\n",
              "      <td>102</td>\n",
              "      <td>1.80</td>\n",
              "      <td>0.75</td>\n",
              "      <td>0.43</td>\n",
              "      <td>1.41</td>\n",
              "      <td>7.3</td>\n",
              "      <td>0.70</td>\n",
              "      <td>1.56</td>\n",
              "      <td>750</td>\n",
              "    </tr>\n",
              "    <tr>\n",
              "      <th>175</th>\n",
              "      <td>3</td>\n",
              "      <td>13.27</td>\n",
              "      <td>4.28</td>\n",
              "      <td>2.26</td>\n",
              "      <td>20.0</td>\n",
              "      <td>120</td>\n",
              "      <td>1.59</td>\n",
              "      <td>0.69</td>\n",
              "      <td>0.43</td>\n",
              "      <td>1.35</td>\n",
              "      <td>10.2</td>\n",
              "      <td>0.59</td>\n",
              "      <td>1.56</td>\n",
              "      <td>835</td>\n",
              "    </tr>\n",
              "    <tr>\n",
              "      <th>176</th>\n",
              "      <td>3</td>\n",
              "      <td>13.17</td>\n",
              "      <td>2.59</td>\n",
              "      <td>2.37</td>\n",
              "      <td>20.0</td>\n",
              "      <td>120</td>\n",
              "      <td>1.65</td>\n",
              "      <td>0.68</td>\n",
              "      <td>0.53</td>\n",
              "      <td>1.46</td>\n",
              "      <td>9.3</td>\n",
              "      <td>0.60</td>\n",
              "      <td>1.62</td>\n",
              "      <td>840</td>\n",
              "    </tr>\n",
              "    <tr>\n",
              "      <th>177</th>\n",
              "      <td>3</td>\n",
              "      <td>14.13</td>\n",
              "      <td>4.10</td>\n",
              "      <td>2.74</td>\n",
              "      <td>24.5</td>\n",
              "      <td>96</td>\n",
              "      <td>2.05</td>\n",
              "      <td>0.76</td>\n",
              "      <td>0.56</td>\n",
              "      <td>1.35</td>\n",
              "      <td>9.2</td>\n",
              "      <td>0.61</td>\n",
              "      <td>1.60</td>\n",
              "      <td>560</td>\n",
              "    </tr>\n",
              "  </tbody>\n",
              "</table>\n",
              "</div>"
            ],
            "text/plain": [
              "     Cultivator  Alchol  Malic_Acid  ...   Hue  OD280  Proline\n",
              "173           3   13.71        5.65  ...  0.64   1.74      740\n",
              "174           3   13.40        3.91  ...  0.70   1.56      750\n",
              "175           3   13.27        4.28  ...  0.59   1.56      835\n",
              "176           3   13.17        2.59  ...  0.60   1.62      840\n",
              "177           3   14.13        4.10  ...  0.61   1.60      560\n",
              "\n",
              "[5 rows x 14 columns]"
            ]
          },
          "metadata": {
            "tags": []
          },
          "execution_count": 2
        }
      ]
    },
    {
      "cell_type": "code",
      "metadata": {
        "colab": {
          "base_uri": "https://localhost:8080/",
          "height": 439
        },
        "id": "wHqP-SqJPh6Z",
        "outputId": "a2ca7a58-9373-4381-b05e-89b4eaade129"
      },
      "source": [
        "X = wine_data.drop(columns= \"Cultivator\", axis = 1)\r\n",
        "X"
      ],
      "execution_count": 12,
      "outputs": [
        {
          "output_type": "execute_result",
          "data": {
            "text/html": [
              "<div>\n",
              "<style scoped>\n",
              "    .dataframe tbody tr th:only-of-type {\n",
              "        vertical-align: middle;\n",
              "    }\n",
              "\n",
              "    .dataframe tbody tr th {\n",
              "        vertical-align: top;\n",
              "    }\n",
              "\n",
              "    .dataframe thead th {\n",
              "        text-align: right;\n",
              "    }\n",
              "</style>\n",
              "<table border=\"1\" class=\"dataframe\">\n",
              "  <thead>\n",
              "    <tr style=\"text-align: right;\">\n",
              "      <th></th>\n",
              "      <th>Alchol</th>\n",
              "      <th>Malic_Acid</th>\n",
              "      <th>Ash</th>\n",
              "      <th>Alcalinity_of_Ash</th>\n",
              "      <th>Magnesium</th>\n",
              "      <th>Total_phenols</th>\n",
              "      <th>Falvanoids</th>\n",
              "      <th>Nonflavanoid_phenols</th>\n",
              "      <th>Proanthocyanins</th>\n",
              "      <th>Color_intensity</th>\n",
              "      <th>Hue</th>\n",
              "      <th>OD280</th>\n",
              "      <th>Proline</th>\n",
              "    </tr>\n",
              "  </thead>\n",
              "  <tbody>\n",
              "    <tr>\n",
              "      <th>0</th>\n",
              "      <td>14.23</td>\n",
              "      <td>1.71</td>\n",
              "      <td>2.43</td>\n",
              "      <td>15.6</td>\n",
              "      <td>127</td>\n",
              "      <td>2.80</td>\n",
              "      <td>3.06</td>\n",
              "      <td>0.28</td>\n",
              "      <td>2.29</td>\n",
              "      <td>5.64</td>\n",
              "      <td>1.04</td>\n",
              "      <td>3.92</td>\n",
              "      <td>1065</td>\n",
              "    </tr>\n",
              "    <tr>\n",
              "      <th>1</th>\n",
              "      <td>13.20</td>\n",
              "      <td>1.78</td>\n",
              "      <td>2.14</td>\n",
              "      <td>11.2</td>\n",
              "      <td>100</td>\n",
              "      <td>2.65</td>\n",
              "      <td>2.76</td>\n",
              "      <td>0.26</td>\n",
              "      <td>1.28</td>\n",
              "      <td>4.38</td>\n",
              "      <td>1.05</td>\n",
              "      <td>3.40</td>\n",
              "      <td>1050</td>\n",
              "    </tr>\n",
              "    <tr>\n",
              "      <th>2</th>\n",
              "      <td>13.16</td>\n",
              "      <td>2.36</td>\n",
              "      <td>2.67</td>\n",
              "      <td>18.6</td>\n",
              "      <td>101</td>\n",
              "      <td>2.80</td>\n",
              "      <td>3.24</td>\n",
              "      <td>0.30</td>\n",
              "      <td>2.81</td>\n",
              "      <td>5.68</td>\n",
              "      <td>1.03</td>\n",
              "      <td>3.17</td>\n",
              "      <td>1185</td>\n",
              "    </tr>\n",
              "    <tr>\n",
              "      <th>3</th>\n",
              "      <td>14.37</td>\n",
              "      <td>1.95</td>\n",
              "      <td>2.50</td>\n",
              "      <td>16.8</td>\n",
              "      <td>113</td>\n",
              "      <td>3.85</td>\n",
              "      <td>3.49</td>\n",
              "      <td>0.24</td>\n",
              "      <td>2.18</td>\n",
              "      <td>7.80</td>\n",
              "      <td>0.86</td>\n",
              "      <td>3.45</td>\n",
              "      <td>1480</td>\n",
              "    </tr>\n",
              "    <tr>\n",
              "      <th>4</th>\n",
              "      <td>13.24</td>\n",
              "      <td>2.59</td>\n",
              "      <td>2.87</td>\n",
              "      <td>21.0</td>\n",
              "      <td>118</td>\n",
              "      <td>2.80</td>\n",
              "      <td>2.69</td>\n",
              "      <td>0.39</td>\n",
              "      <td>1.82</td>\n",
              "      <td>4.32</td>\n",
              "      <td>1.04</td>\n",
              "      <td>2.93</td>\n",
              "      <td>735</td>\n",
              "    </tr>\n",
              "    <tr>\n",
              "      <th>...</th>\n",
              "      <td>...</td>\n",
              "      <td>...</td>\n",
              "      <td>...</td>\n",
              "      <td>...</td>\n",
              "      <td>...</td>\n",
              "      <td>...</td>\n",
              "      <td>...</td>\n",
              "      <td>...</td>\n",
              "      <td>...</td>\n",
              "      <td>...</td>\n",
              "      <td>...</td>\n",
              "      <td>...</td>\n",
              "      <td>...</td>\n",
              "    </tr>\n",
              "    <tr>\n",
              "      <th>173</th>\n",
              "      <td>13.71</td>\n",
              "      <td>5.65</td>\n",
              "      <td>2.45</td>\n",
              "      <td>20.5</td>\n",
              "      <td>95</td>\n",
              "      <td>1.68</td>\n",
              "      <td>0.61</td>\n",
              "      <td>0.52</td>\n",
              "      <td>1.06</td>\n",
              "      <td>7.70</td>\n",
              "      <td>0.64</td>\n",
              "      <td>1.74</td>\n",
              "      <td>740</td>\n",
              "    </tr>\n",
              "    <tr>\n",
              "      <th>174</th>\n",
              "      <td>13.40</td>\n",
              "      <td>3.91</td>\n",
              "      <td>2.48</td>\n",
              "      <td>23.0</td>\n",
              "      <td>102</td>\n",
              "      <td>1.80</td>\n",
              "      <td>0.75</td>\n",
              "      <td>0.43</td>\n",
              "      <td>1.41</td>\n",
              "      <td>7.30</td>\n",
              "      <td>0.70</td>\n",
              "      <td>1.56</td>\n",
              "      <td>750</td>\n",
              "    </tr>\n",
              "    <tr>\n",
              "      <th>175</th>\n",
              "      <td>13.27</td>\n",
              "      <td>4.28</td>\n",
              "      <td>2.26</td>\n",
              "      <td>20.0</td>\n",
              "      <td>120</td>\n",
              "      <td>1.59</td>\n",
              "      <td>0.69</td>\n",
              "      <td>0.43</td>\n",
              "      <td>1.35</td>\n",
              "      <td>10.20</td>\n",
              "      <td>0.59</td>\n",
              "      <td>1.56</td>\n",
              "      <td>835</td>\n",
              "    </tr>\n",
              "    <tr>\n",
              "      <th>176</th>\n",
              "      <td>13.17</td>\n",
              "      <td>2.59</td>\n",
              "      <td>2.37</td>\n",
              "      <td>20.0</td>\n",
              "      <td>120</td>\n",
              "      <td>1.65</td>\n",
              "      <td>0.68</td>\n",
              "      <td>0.53</td>\n",
              "      <td>1.46</td>\n",
              "      <td>9.30</td>\n",
              "      <td>0.60</td>\n",
              "      <td>1.62</td>\n",
              "      <td>840</td>\n",
              "    </tr>\n",
              "    <tr>\n",
              "      <th>177</th>\n",
              "      <td>14.13</td>\n",
              "      <td>4.10</td>\n",
              "      <td>2.74</td>\n",
              "      <td>24.5</td>\n",
              "      <td>96</td>\n",
              "      <td>2.05</td>\n",
              "      <td>0.76</td>\n",
              "      <td>0.56</td>\n",
              "      <td>1.35</td>\n",
              "      <td>9.20</td>\n",
              "      <td>0.61</td>\n",
              "      <td>1.60</td>\n",
              "      <td>560</td>\n",
              "    </tr>\n",
              "  </tbody>\n",
              "</table>\n",
              "<p>178 rows × 13 columns</p>\n",
              "</div>"
            ],
            "text/plain": [
              "     Alchol  Malic_Acid   Ash  ...   Hue  OD280  Proline\n",
              "0     14.23        1.71  2.43  ...  1.04   3.92     1065\n",
              "1     13.20        1.78  2.14  ...  1.05   3.40     1050\n",
              "2     13.16        2.36  2.67  ...  1.03   3.17     1185\n",
              "3     14.37        1.95  2.50  ...  0.86   3.45     1480\n",
              "4     13.24        2.59  2.87  ...  1.04   2.93      735\n",
              "..      ...         ...   ...  ...   ...    ...      ...\n",
              "173   13.71        5.65  2.45  ...  0.64   1.74      740\n",
              "174   13.40        3.91  2.48  ...  0.70   1.56      750\n",
              "175   13.27        4.28  2.26  ...  0.59   1.56      835\n",
              "176   13.17        2.59  2.37  ...  0.60   1.62      840\n",
              "177   14.13        4.10  2.74  ...  0.61   1.60      560\n",
              "\n",
              "[178 rows x 13 columns]"
            ]
          },
          "metadata": {
            "tags": []
          },
          "execution_count": 12
        }
      ]
    },
    {
      "cell_type": "code",
      "metadata": {
        "colab": {
          "base_uri": "https://localhost:8080/"
        },
        "id": "6A6L52eLTvKQ",
        "outputId": "02943546-9087-42dc-a2be-31f3f85544d7"
      },
      "source": [
        "y = wine_data[\"Cultivator\"]\r\n",
        "y"
      ],
      "execution_count": 13,
      "outputs": [
        {
          "output_type": "execute_result",
          "data": {
            "text/plain": [
              "0      1\n",
              "1      1\n",
              "2      1\n",
              "3      1\n",
              "4      1\n",
              "      ..\n",
              "173    3\n",
              "174    3\n",
              "175    3\n",
              "176    3\n",
              "177    3\n",
              "Name: Cultivator, Length: 178, dtype: int64"
            ]
          },
          "metadata": {
            "tags": []
          },
          "execution_count": 13
        }
      ]
    },
    {
      "cell_type": "code",
      "metadata": {
        "colab": {
          "base_uri": "https://localhost:8080/"
        },
        "id": "Z3oOaUQEPr8i",
        "outputId": "65c354aa-7edf-45e9-b7dc-2b2560beb373"
      },
      "source": [
        "X_train, X_test, y_train, y_test = train_test_split(X, y, test_size=0.2, random_state=1)\r\n",
        "X_train, X_val, y_train, y_val = train_test_split(X_train, y_train, test_size=0.2, random_state=1)\r\n",
        "print(f'#traning = {X_train.shape[0]}')\r\n",
        "print(f'#validation = {X_val.shape[0]}')\r\n",
        "print(f'#test = {X_test.shape[0]}')\r\n"
      ],
      "execution_count": 15,
      "outputs": [
        {
          "output_type": "stream",
          "text": [
            "#traning = 113\n",
            "#validation = 29\n",
            "#test = 36\n"
          ],
          "name": "stdout"
        }
      ]
    },
    {
      "cell_type": "code",
      "metadata": {
        "id": "lWZX9ucnQAiJ"
      },
      "source": [
        "clf_gini = DecisionTreeClassifier(criterion = \"entropy\", random_state = 100,  max_depth=3, min_samples_leaf=5)\r\n",
        "clf_gini.fit(X_train, y_train)\r\n",
        "feature_2 = [\"Alchol\", \"Malic_Acid\", \"Ash\", \"Alcalinity_of_Ash\", \"Magnesium\", \"Total_phenols\", \"Falvanoids\", \"Nonflavanoid_phenols\", \"Proanthocyanins\", \"Color_intensity\", \"Hue\", \"OD280\", \"Proline\"]\r\n",
        "target = [\"1\",\"2\",\"3\"]"
      ],
      "execution_count": 22,
      "outputs": []
    },
    {
      "cell_type": "code",
      "metadata": {
        "colab": {
          "base_uri": "https://localhost:8080/",
          "height": 594
        },
        "id": "gmmhB8tUQGMV",
        "outputId": "f749960b-6d47-48bf-e4b2-f6ee5ceeb8c2"
      },
      "source": [
        "from sklearn.externals.six import StringIO \r\n",
        "from IPython.display import Image \r\n",
        "from sklearn.tree import export_graphviz\r\n",
        "import pydotplus\r\n",
        "dot_data = StringIO()\r\n",
        "export_graphviz(clf_gini, out_file=dot_data,\r\n",
        " feature_names=feature_2, \r\n",
        " class_names=target,\r\n",
        " filled=True, rounded=True,\r\n",
        " special_characters=True)\r\n",
        "graph = pydotplus.graph_from_dot_data(dot_data.getvalue()) \r\n",
        "Image(graph.create_png())"
      ],
      "execution_count": 23,
      "outputs": [
        {
          "output_type": "execute_result",
          "data": {
            "image/png": "[encoded data removed]",
            "text/plain": [
              "<IPython.core.display.Image object>"
            ]
          },
          "metadata": {
            "tags": []
          },
          "execution_count": 23
        }
      ]
    },
    {
      "cell_type": "code",
      "metadata": {
        "id": "Rr_70QnnWKaV"
      },
      "source": [
        "# sequential model\r\n",
        "def get_SequentialModel(learning_rate = 0.01):\r\n",
        "    model = keras.models.Sequential()\r\n",
        "    model.add(keras.layers.Dense(100,activation='relu',input_shape=(1,)))\r\n",
        "    model.add(keras.layers.Dense(100,activation='relu'))\r\n",
        "    model.add(keras.layers.Dense(1))\r\n",
        "    model.compile(loss='mse',optimizer=keras.optimizers.SGD(learning_rate=learning_rate))\r\n",
        "    return model"
      ],
      "execution_count": 24,
      "outputs": []
    },
    {
      "cell_type": "code",
      "metadata": {
        "id": "52pdyK-RXYzw"
      },
      "source": [
        "y_pred = clf_gini.predict(X_test)"
      ],
      "execution_count": 30,
      "outputs": []
    },
    {
      "cell_type": "code",
      "metadata": {
        "colab": {
          "base_uri": "https://localhost:8080/"
        },
        "id": "SixppndMXbsL",
        "outputId": "cf8245d1-19b0-4649-b235-a837351b6ea2"
      },
      "source": [
        "print('Accuracy of Decision Tree classifier on training set: {:.4f}'\r\n",
        "     .format(clf_gini.score(X_train, y_train)*100))\r\n",
        "print('Accuracy of Decision Tree classifier on test set: {:.4f}'\r\n",
        "     .format(clf_gini.score(X_test, y_test)*100))\r\n",
        "print(classification_report(y_test,y_pred))\r\n",
        "print(confusion_matrix(y_test,y_pred))"
      ],
      "execution_count": 31,
      "outputs": [
        {
          "output_type": "stream",
          "text": [
            "Accuracy of Decision Tree classifier on training set: 94.6903\n",
            "Accuracy of Decision Tree classifier on test set: 86.1111\n",
            "              precision    recall  f1-score   support\n",
            "\n",
            "           1       0.92      0.79      0.85        14\n",
            "           2       0.86      0.92      0.89        13\n",
            "           3       0.80      0.89      0.84         9\n",
            "\n",
            "    accuracy                           0.86        36\n",
            "   macro avg       0.86      0.87      0.86        36\n",
            "weighted avg       0.87      0.86      0.86        36\n",
            "\n",
            "[[11  1  2]\n",
            " [ 1 12  0]\n",
            " [ 0  1  8]]\n"
          ],
          "name": "stdout"
        }
      ]
    },
    {
      "cell_type": "code",
      "metadata": {
        "id": "ZX6ti27WaeFc"
      },
      "source": [
        "#SVM"
      ],
      "execution_count": 35,
      "outputs": []
    },
    {
      "cell_type": "code",
      "metadata": {
        "id": "UkVz_wg6azK4"
      },
      "source": [
        "import numpy as np\r\n",
        "import pandas as pd\r\n",
        "from sklearn.model_selection import train_test_split\r\n",
        "from sklearn.metrics import accuracy_score,mean_squared_error, r2_score\r\n",
        "from sklearn.metrics import classification_report, confusion_matrix\r\n",
        "from sklearn import preprocessing\r\n",
        "from sklearn import svm"
      ],
      "execution_count": 34,
      "outputs": []
    },
    {
      "cell_type": "code",
      "metadata": {
        "id": "q1-XlMVza_3X"
      },
      "source": [
        "# Fitting the Transformer APIPython\r\n",
        "from sklearn import preprocessing\r\n",
        "scaler = preprocessing.StandardScaler().fit(X_train)\r\n",
        "X_train_scaled = scaler.transform(X_train)\r\n",
        "X_test_scaled = scaler.transform(X_test)"
      ],
      "execution_count": 37,
      "outputs": []
    },
    {
      "cell_type": "code",
      "metadata": {
        "colab": {
          "base_uri": "https://localhost:8080/"
        },
        "id": "dbs7FChcamOS",
        "outputId": "331186a9-8781-4f8e-e3d7-c02f999936b0"
      },
      "source": [
        "# linear\r\n",
        "clf_svm = svm.SVC(kernel=\"linear\")\r\n",
        "clf_svm.fit(X_train, y_train)\r\n",
        "clf_svm_scaled = svm.SVC(kernel=\"linear\")\r\n",
        "clf_svm_scaled.fit(X_train_scaled, y_train)"
      ],
      "execution_count": 38,
      "outputs": [
        {
          "output_type": "execute_result",
          "data": {
            "text/plain": [
              "SVC(C=1.0, break_ties=False, cache_size=200, class_weight=None, coef0=0.0,\n",
              "    decision_function_shape='ovr', degree=3, gamma='scale', kernel='linear',\n",
              "    max_iter=-1, probability=False, random_state=None, shrinking=True,\n",
              "    tol=0.001, verbose=False)"
            ]
          },
          "metadata": {
            "tags": []
          },
          "execution_count": 38
        }
      ]
    },
    {
      "cell_type": "code",
      "metadata": {
        "id": "ECHcgsY5a2aa"
      },
      "source": [
        "# predict\r\n",
        "y_pred = clf_svm.predict(X_test)  \r\n",
        "y_pred_scaled = clf_svm_scaled.predict(X_test_scaled)"
      ],
      "execution_count": 39,
      "outputs": []
    },
    {
      "cell_type": "code",
      "metadata": {
        "colab": {
          "base_uri": "https://localhost:8080/"
        },
        "id": "N-iRJn8VbOir",
        "outputId": "3ba90bf0-a02a-4d89-ab59-b6b1645b463c"
      },
      "source": [
        "# Evaluation\r\n",
        "print('Non Standardize')\r\n",
        "print('Accuracy of SVM classifier on training set: {:.4f}'\r\n",
        "     .format(clf_svm.score(X_train, y_train)*100))\r\n",
        "print('Accuracy of SVM classifier on test set: {:.4f}'\r\n",
        "     .format(clf_svm.score(X_test, y_test)*100))\r\n",
        "print('\\nStandardize')\r\n",
        "print('Accuracy of SVM classifier on training set: {:.4f}'\r\n",
        "     .format(clf_svm_scaled.score(X_train_scaled, y_train)*100))\r\n",
        "print('Accuracy of SVM classifier on test set: {:.4f}'\r\n",
        "     .format(clf_svm_scaled.score(X_test_scaled, y_test)*100))\r\n",
        "from sklearn.metrics import classification_report,confusion_matrix\r\n",
        "print(classification_report(y_test,y_pred_scaled))\r\n",
        "print(confusion_matrix(y_test,y_pred_scaled))"
      ],
      "execution_count": 40,
      "outputs": [
        {
          "output_type": "stream",
          "text": [
            "Non Standardize\n",
            "Accuracy of SVM classifier on training set: 100.0000\n",
            "Accuracy of SVM classifier on test set: 88.8889\n",
            "\n",
            "Standardize\n",
            "Accuracy of SVM classifier on training set: 100.0000\n",
            "Accuracy of SVM classifier on test set: 97.2222\n",
            "              precision    recall  f1-score   support\n",
            "\n",
            "           1       0.93      1.00      0.97        14\n",
            "           2       1.00      0.92      0.96        13\n",
            "           3       1.00      1.00      1.00         9\n",
            "\n",
            "    accuracy                           0.97        36\n",
            "   macro avg       0.98      0.97      0.98        36\n",
            "weighted avg       0.97      0.97      0.97        36\n",
            "\n",
            "[[14  0  0]\n",
            " [ 1 12  0]\n",
            " [ 0  0  9]]\n"
          ],
          "name": "stdout"
        }
      ]
    },
    {
      "cell_type": "code",
      "metadata": {
        "colab": {
          "base_uri": "https://localhost:8080/"
        },
        "id": "2OQVYyCIbTTy",
        "outputId": "84fff935-74bb-4e73-f4b9-8a1daf929623"
      },
      "source": [
        "# non-linearly \r\n",
        "clf_svm = svm.SVC(kernel= \"rbf\")\r\n",
        "clf_svm.fit(X_train, y_train)\r\n",
        "clf_svm_scaled = svm.SVC(kernel=\"rbf\")\r\n",
        "clf_svm_scaled.fit(X_train_scaled, y_train)\r\n",
        "y_pred = clf_svm.predict(X_test)\r\n",
        "y_pred_scaled = clf_svm_scaled.predict(X_test_scaled)\r\n",
        "print('Non Standardize')\r\n",
        "print('Accuracy of SVM classifier on training set: {:.4f}'\r\n",
        "     .format(clf_svm.score(X_train, y_train)*100))\r\n",
        "print('Accuracy of SVM classifier on test set: {:.4f}'\r\n",
        "     .format(clf_svm.score(X_test, y_test)*100))\r\n",
        "print('\\nStandardize')\r\n",
        "print('Accuracy of SVM classifier on training set: {:.4f}'\r\n",
        "     .format(clf_svm_scaled.score(X_train_scaled, y_train)*100))\r\n",
        "print('Accuracy of SVM classifier on test set: {:.4f}'\r\n",
        "     .format(clf_svm_scaled.score(X_test_scaled, y_test)*100))\r\n",
        "from sklearn.metrics import classification_report,confusion_matrix\r\n",
        "print(classification_report(y_test,y_pred_scaled))\r\n",
        "print(confusion_matrix(y_test,y_pred_scaled))"
      ],
      "execution_count": 42,
      "outputs": [
        {
          "output_type": "stream",
          "text": [
            "Non Standardize\n",
            "Accuracy of SVM classifier on training set: 75.2212\n",
            "Accuracy of SVM classifier on test set: 69.4444\n",
            "\n",
            "Standardize\n",
            "Accuracy of SVM classifier on training set: 100.0000\n",
            "Accuracy of SVM classifier on test set: 97.2222\n",
            "              precision    recall  f1-score   support\n",
            "\n",
            "           1       1.00      1.00      1.00        14\n",
            "           2       0.93      1.00      0.96        13\n",
            "           3       1.00      0.89      0.94         9\n",
            "\n",
            "    accuracy                           0.97        36\n",
            "   macro avg       0.98      0.96      0.97        36\n",
            "weighted avg       0.97      0.97      0.97        36\n",
            "\n",
            "[[14  0  0]\n",
            " [ 0 13  0]\n",
            " [ 0  1  8]]\n"
          ],
          "name": "stdout"
        }
      ]
    },
    {
      "cell_type": "code",
      "metadata": {
        "id": "wXd9HnICbgD7"
      },
      "source": [
        "#  Classification: Neural Network\r\n",
        "\r\n",
        "from sklearn.metrics import accuracy_score,mean_squared_error, r2_score\r\n",
        "from sklearn.metrics import classification_report, confusion_matrix\r\n",
        "from sklearn import preprocessing\r\n",
        "from sklearn.neural_network import MLPClassifier"
      ],
      "execution_count": 43,
      "outputs": []
    },
    {
      "cell_type": "code",
      "metadata": {
        "id": "th0UMdnvcZMJ"
      },
      "source": [
        "# Fitting the Transformer APIPython\r\n",
        "# Fitting the Transformer APIPython\r\n",
        "from sklearn import preprocessing\r\n",
        "scaler = preprocessing.StandardScaler().fit(X_train)\r\n",
        "\r\n",
        "X_train_scaled = scaler.transform(X_train)\r\n",
        "X_test_scaled = scaler.transform(X_test)"
      ],
      "execution_count": 49,
      "outputs": []
    },
    {
      "cell_type": "code",
      "metadata": {
        "colab": {
          "base_uri": "https://localhost:8080/"
        },
        "id": "MKXWw6Jjb-Q0",
        "outputId": "61a77da5-52f6-43f7-89b6-180242038032"
      },
      "source": [
        "NN = MLPClassifier(hidden_layer_sizes=(13,13,13),max_iter=500)\r\n",
        "NN.fit(X_train,y_train)"
      ],
      "execution_count": 52,
      "outputs": [
        {
          "output_type": "stream",
          "text": [
            "/usr/local/lib/python3.6/dist-packages/sklearn/neural_network/_multilayer_perceptron.py:571: ConvergenceWarning: Stochastic Optimizer: Maximum iterations (500) reached and the optimization hasn't converged yet.\n",
            "  % self.max_iter, ConvergenceWarning)\n"
          ],
          "name": "stderr"
        },
        {
          "output_type": "execute_result",
          "data": {
            "text/plain": [
              "MLPClassifier(activation='relu', alpha=0.0001, batch_size='auto', beta_1=0.9,\n",
              "              beta_2=0.999, early_stopping=False, epsilon=1e-08,\n",
              "              hidden_layer_sizes=(13, 13, 13), learning_rate='constant',\n",
              "              learning_rate_init=0.001, max_fun=15000, max_iter=500,\n",
              "              momentum=0.9, n_iter_no_change=10, nesterovs_momentum=True,\n",
              "              power_t=0.5, random_state=None, shuffle=True, solver='adam',\n",
              "              tol=0.0001, validation_fraction=0.1, verbose=False,\n",
              "              warm_start=False)"
            ]
          },
          "metadata": {
            "tags": []
          },
          "execution_count": 52
        }
      ]
    },
    {
      "cell_type": "code",
      "metadata": {
        "colab": {
          "base_uri": "https://localhost:8080/"
        },
        "id": "6MK-NIRRdA4u",
        "outputId": "33ea31a0-7397-487c-9d6c-f80ab8f333ad"
      },
      "source": [
        "NN_scaled = MLPClassifier(hidden_layer_sizes=(13,13,13),max_iter=500)\r\n",
        "NN_scaled.fit(X_train_scaled,y_train)"
      ],
      "execution_count": 53,
      "outputs": [
        {
          "output_type": "execute_result",
          "data": {
            "text/plain": [
              "MLPClassifier(activation='relu', alpha=0.0001, batch_size='auto', beta_1=0.9,\n",
              "              beta_2=0.999, early_stopping=False, epsilon=1e-08,\n",
              "              hidden_layer_sizes=(13, 13, 13), learning_rate='constant',\n",
              "              learning_rate_init=0.001, max_fun=15000, max_iter=500,\n",
              "              momentum=0.9, n_iter_no_change=10, nesterovs_momentum=True,\n",
              "              power_t=0.5, random_state=None, shuffle=True, solver='adam',\n",
              "              tol=0.0001, validation_fraction=0.1, verbose=False,\n",
              "              warm_start=False)"
            ]
          },
          "metadata": {
            "tags": []
          },
          "execution_count": 53
        }
      ]
    },
    {
      "cell_type": "code",
      "metadata": {
        "colab": {
          "base_uri": "https://localhost:8080/"
        },
        "id": "xLZZj_3HdFE8",
        "outputId": "db0bf649-c51e-4566-ea63-0aea992b7f4a"
      },
      "source": [
        "y_pred = NN.predict(X_test)  \r\n",
        "y_pred"
      ],
      "execution_count": 54,
      "outputs": [
        {
          "output_type": "execute_result",
          "data": {
            "text/plain": [
              "array([3, 2, 3, 2, 1, 3, 3, 1, 3, 2, 1, 3, 2, 1, 2, 2, 2, 1, 2, 1, 1, 2,\n",
              "       3, 3, 3, 3, 1, 1, 1, 3, 2, 3, 3, 1, 2, 2])"
            ]
          },
          "metadata": {
            "tags": []
          },
          "execution_count": 54
        }
      ]
    },
    {
      "cell_type": "code",
      "metadata": {
        "colab": {
          "base_uri": "https://localhost:8080/"
        },
        "id": "7QMboJgWdHfG",
        "outputId": "ecd4036d-227f-4297-c022-b25aeac01fcf"
      },
      "source": [
        "y_pred_scaled = NN_scaled.predict(X_test_scaled)  \r\n",
        "y_pred_scaled"
      ],
      "execution_count": 55,
      "outputs": [
        {
          "output_type": "execute_result",
          "data": {
            "text/plain": [
              "array([3, 2, 1, 2, 1, 3, 2, 1, 3, 2, 1, 1, 2, 1, 2, 2, 3, 1, 2, 1, 1, 2,\n",
              "       3, 1, 1, 3, 1, 1, 1, 3, 2, 3, 3, 1, 2, 2])"
            ]
          },
          "metadata": {
            "tags": []
          },
          "execution_count": 55
        }
      ]
    },
    {
      "cell_type": "code",
      "metadata": {
        "colab": {
          "base_uri": "https://localhost:8080/"
        },
        "id": "NTm3xN6WdOLZ",
        "outputId": "4682cf4f-636c-4575-9216-b603f3e75b45"
      },
      "source": [
        "print('Non Standardize')\r\n",
        "print('Accuracy of NN classifier on training set: {:.4f}'\r\n",
        "     .format(NN.score(X_train, y_train)*100))\r\n",
        "print('Accuracy of NN classifier on test set: {:.4f}'\r\n",
        "     .format(NN.score(X_test, y_test)*100))\r\n",
        "print('\\nStandardize')\r\n",
        "print('Accuracy of NN classifier on training set: {:.4f}'\r\n",
        "     .format(NN_scaled.score(X_train_scaled, y_train)*100))\r\n",
        "print('Accuracy of NN classifier on test set: {:.4f}'\r\n",
        "     .format(NN_scaled.score(X_test_scaled, y_test)*100))"
      ],
      "execution_count": 56,
      "outputs": [
        {
          "output_type": "stream",
          "text": [
            "Non Standardize\n",
            "Accuracy of NN classifier on training set: 91.1504\n",
            "Accuracy of NN classifier on test set: 83.3333\n",
            "\n",
            "Standardize\n",
            "Accuracy of NN classifier on training set: 100.0000\n",
            "Accuracy of NN classifier on test set: 97.2222\n"
          ],
          "name": "stdout"
        }
      ]
    },
    {
      "cell_type": "code",
      "metadata": {
        "colab": {
          "base_uri": "https://localhost:8080/"
        },
        "id": "CT1GQyWDdQ3F",
        "outputId": "0fb84a83-6ab7-4b37-d40b-95ce6c2b5103"
      },
      "source": [
        "from sklearn.metrics import classification_report,confusion_matrix\r\n",
        "print(classification_report(y_test,y_pred_scaled))\r\n",
        "print(confusion_matrix(y_test,y_pred_scaled))"
      ],
      "execution_count": 57,
      "outputs": [
        {
          "output_type": "stream",
          "text": [
            "              precision    recall  f1-score   support\n",
            "\n",
            "           1       0.93      1.00      0.97        14\n",
            "           2       1.00      0.92      0.96        13\n",
            "           3       1.00      1.00      1.00         9\n",
            "\n",
            "    accuracy                           0.97        36\n",
            "   macro avg       0.98      0.97      0.98        36\n",
            "weighted avg       0.97      0.97      0.97        36\n",
            "\n",
            "[[14  0  0]\n",
            " [ 1 12  0]\n",
            " [ 0  0  9]]\n"
          ],
          "name": "stdout"
        }
      ]
    },
    {
      "cell_type": "code",
      "metadata": {
        "id": "eeyg7BBRcC3C"
      },
      "source": [
        "# K-Means\r\n",
        "from sklearn.preprocessing import StandardScaler\r\n",
        "from sklearn.decomposition import PCA\r\n",
        "from sklearn.cluster import KMeans\r\n",
        "from sklearn.metrics import accuracy_score,mean_squared_error, r2_score, homogeneity_score\r\n",
        "import matplotlib.pyplot as plt"
      ],
      "execution_count": 66,
      "outputs": []
    },
    {
      "cell_type": "code",
      "metadata": {
        "id": "N2JQjag9cEnX"
      },
      "source": [
        "from sklearn.preprocessing import StandardScaler\r\n",
        "scaler = StandardScaler()\r\n",
        "# Fit to all data\r\n",
        "scaler.fit(X)\r\n",
        "X_scaled = scaler.transform(X)"
      ],
      "execution_count": 60,
      "outputs": []
    },
    {
      "cell_type": "code",
      "metadata": {
        "colab": {
          "base_uri": "https://localhost:8080/",
          "height": 204
        },
        "id": "YEufgzB1deB7",
        "outputId": "f09e6192-2c01-4b21-d23b-d26ebc981363"
      },
      "source": [
        "# Dimension Reduction\r\n",
        "from sklearn.decomposition import PCA\r\n",
        "pca = PCA(n_components=2)\r\n",
        "principalComponents = pca.fit_transform(X_scaled)\r\n",
        "principalDf = pd.DataFrame(data = principalComponents, columns = [\"principal component 1\", \"principal component 2\"])\r\n",
        "principalDf.head()\r\n",
        "#Concatenating DataFrame along axis = 1. finalDf is the final DataFrame before plotting the data.\r\n",
        "finalDf = pd.concat([principalDf, y], axis = 1)\r\n",
        "finalDf.head()"
      ],
      "execution_count": 63,
      "outputs": [
        {
          "output_type": "execute_result",
          "data": {
            "text/html": [
              "<div>\n",
              "<style scoped>\n",
              "    .dataframe tbody tr th:only-of-type {\n",
              "        vertical-align: middle;\n",
              "    }\n",
              "\n",
              "    .dataframe tbody tr th {\n",
              "        vertical-align: top;\n",
              "    }\n",
              "\n",
              "    .dataframe thead th {\n",
              "        text-align: right;\n",
              "    }\n",
              "</style>\n",
              "<table border=\"1\" class=\"dataframe\">\n",
              "  <thead>\n",
              "    <tr style=\"text-align: right;\">\n",
              "      <th></th>\n",
              "      <th>principal component 1</th>\n",
              "      <th>principal component 2</th>\n",
              "      <th>Cultivator</th>\n",
              "    </tr>\n",
              "  </thead>\n",
              "  <tbody>\n",
              "    <tr>\n",
              "      <th>0</th>\n",
              "      <td>3.316751</td>\n",
              "      <td>-1.443463</td>\n",
              "      <td>1</td>\n",
              "    </tr>\n",
              "    <tr>\n",
              "      <th>1</th>\n",
              "      <td>2.209465</td>\n",
              "      <td>0.333393</td>\n",
              "      <td>1</td>\n",
              "    </tr>\n",
              "    <tr>\n",
              "      <th>2</th>\n",
              "      <td>2.516740</td>\n",
              "      <td>-1.031151</td>\n",
              "      <td>1</td>\n",
              "    </tr>\n",
              "    <tr>\n",
              "      <th>3</th>\n",
              "      <td>3.757066</td>\n",
              "      <td>-2.756372</td>\n",
              "      <td>1</td>\n",
              "    </tr>\n",
              "    <tr>\n",
              "      <th>4</th>\n",
              "      <td>1.008908</td>\n",
              "      <td>-0.869831</td>\n",
              "      <td>1</td>\n",
              "    </tr>\n",
              "  </tbody>\n",
              "</table>\n",
              "</div>"
            ],
            "text/plain": [
              "   principal component 1  principal component 2  Cultivator\n",
              "0               3.316751              -1.443463           1\n",
              "1               2.209465               0.333393           1\n",
              "2               2.516740              -1.031151           1\n",
              "3               3.757066              -2.756372           1\n",
              "4               1.008908              -0.869831           1"
            ]
          },
          "metadata": {
            "tags": []
          },
          "execution_count": 63
        }
      ]
    },
    {
      "cell_type": "code",
      "metadata": {
        "colab": {
          "base_uri": "https://localhost:8080/",
          "height": 523
        },
        "id": "BRlkiT1Rdq0J",
        "outputId": "912fcca5-dcc3-40b5-a167-72b7ed064262"
      },
      "source": [
        "#Data Visualization\r\n",
        "fig = plt.figure(figsize = (8,8))\r\n",
        "ax = fig.add_subplot(1,1,1) \r\n",
        "ax.set_xlabel(\"principal component 1\", fontsize = 15)\r\n",
        "ax.set_ylabel(\"principal component 2\", fontsize = 15)\r\n",
        "ax.set_title(\"2 component PCA\", fontsize = 20)\r\n",
        "Cultivators = [1, 2, 3]\r\n",
        "colors = [\"r\", \"g\", \"b\"]\r\n",
        "for Cultivator, color in zip(Cultivators,colors):\r\n",
        "    indicesToKeep = finalDf['Cultivator'] == Cultivator\r\n",
        "    ax.scatter(finalDf.loc[indicesToKeep, \"principal component 1\"]\r\n",
        "               , finalDf.loc[indicesToKeep, \"principal component 2\"]\r\n",
        "               , c = color\r\n",
        "               , s = 50)\r\n",
        "ax.legend(Cultivators)\r\n",
        "ax.grid()"
      ],
      "execution_count": 67,
      "outputs": [
        {
          "output_type": "display_data",
          "data": {
            "image/png": "[encoded data removed]",
            "text/plain": [
              "<Figure size 576x576 with 1 Axes>"
            ]
          },
          "metadata": {
            "tags": [],
            "needs_background": "light"
          }
        }
      ]
    },
    {
      "cell_type": "code",
      "metadata": {
        "colab": {
          "base_uri": "https://localhost:8080/",
          "height": 265
        },
        "id": "1ELhwW0sd0ZR",
        "outputId": "e3c20f3b-a15a-4550-fb0c-45ea541fe569"
      },
      "source": [
        "# Fitting Model\r\n",
        "from sklearn.cluster import KMeans\r\n",
        "kmeans = KMeans(n_clusters=3)\r\n",
        "kmeans.fit(principalDf)\r\n",
        "y_kmeans = kmeans.predict(principalDf)\r\n",
        "plt.scatter(principalDf.iloc[:, 0], principalDf.iloc[:, 1], c=y_kmeans, s=50, cmap='viridis')\r\n",
        "centers = kmeans.cluster_centers_\r\n",
        "plt.scatter(centers[:, 0], centers[:, 1], c='black', s=200, alpha=0.5);"
      ],
      "execution_count": 68,
      "outputs": [
        {
          "output_type": "display_data",
          "data": {
            "image/png": "[encoded data removed]",
            "text/plain": [
              "<Figure size 432x288 with 1 Axes>"
            ]
          },
          "metadata": {
            "tags": [],
            "needs_background": "light"
          }
        }
      ]
    },
    {
      "cell_type": "code",
      "metadata": {
        "colab": {
          "base_uri": "https://localhost:8080/"
        },
        "id": "43CRs57IeUDc",
        "outputId": "fd96482a-776c-4fef-fb5a-6e8fe5e4afa9"
      },
      "source": [
        "# Evaluation\r\n",
        "labels_true = finalDf['Cultivator'].values\r\n",
        "clustering_predicted = y_kmeans\r\n",
        "print('Homogeneity score is {:.4f}'.format(homogeneity_score(labels_true, clustering_predicted)))"
      ],
      "execution_count": 69,
      "outputs": [
        {
          "output_type": "stream",
          "text": [
            "Homogeneity score is 0.8840\n"
          ],
          "name": "stdout"
        }
      ]
    },
    {
      "cell_type": "code",
      "metadata": {
        "id": "t-CYRODzeYvA"
      },
      "source": [
        ""
      ],
      "execution_count": null,
      "outputs": []
    }
  ]
}